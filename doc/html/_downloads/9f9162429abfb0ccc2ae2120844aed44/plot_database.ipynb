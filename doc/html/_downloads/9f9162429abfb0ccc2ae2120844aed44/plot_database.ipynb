{
  "cells": [
    {
      "cell_type": "code",
      "execution_count": null,
      "metadata": {
        "collapsed": false
      },
      "outputs": [],
      "source": [
        "%matplotlib inline"
      ]
    },
    {
      "cell_type": "markdown",
      "metadata": {},
      "source": [
        "\n# Texture Patchwork\n\n.. codeauthor:: Fr\u00e9d\u00e9ric Richard <frederic.richard_at_univ-amu.fr>\n\nThis example shows how to build a series of simulations of a field model by\nchanging its parameter values at random. This is useful to construct a dataset\nof textures.\n"
      ]
    },
    {
      "cell_type": "code",
      "execution_count": null,
      "metadata": {
        "collapsed": false
      },
      "outputs": [],
      "source": [
        "from matplotlib import pyplot as plt\nimport matplotlib.gridspec as gridspec\n\n\nimport numpy as np\n\nfrom afbf import tbfield, coordinates\n\nncols = 10\nnrows = 10\nnbexamples = ncols * nrows  # Number of examples.\nN = 100  # Size of examples.\n\n# Mode of simulation for step values (alt, 'unif', 'unifmax', or 'unifrange').\nsimstep = 'unifmin'\n# Mode of simulation for step interval bounds (alt, 'nonunif').\nsimbounds = 'unif'\n\n# Define the field to be simulated and coordinates where to simulate.\nfield = tbfield('afbf-smooth')\ncoord = coordinates(N)\n\n# Set the mode of simulation for the Hurst function.\nfield.hurst.SetStepSampleMode(mode_cst=simstep, mode_int=simbounds)\n\n# Prepare the figure\nfig = plt.figure(figsize=(nrows, ncols))\ngs = gridspec.GridSpec(nrows, ncols)\ngs.update(wspace=0.05, hspace=0.05)  # Set axe spacing.\n\n# Generate several examples.\nfor example in range(nbexamples):\n    # Sample new model parameters.\n    np.random.seed(example)\n    field.hurst.ChangeParameters()\n    field.topo.ChangeParameters()\n    # Uncomment to show field parameters.\n    # field.DisplayParameters()\n\n    # Compute field features.\n    field.ComputeFeatures()\n    # Uncomment to show some field features.\n    # print('Hurst index:', field.H)\n    # print('Std deviation (hurst):', field.aniso_indices_hurst[0])\n    # print('TV-norm (hurst):', field.aniso_sharpness_hurst[0])\n\n    # Simulate an example with the current model.\n    np.random.seed(example)\n    field.EvaluateTurningBandParameters()\n    simu = field.Simulate(coord)\n    # Uncomment to display the field simulation.\n    # simu.Display(2)\n\n    # To handle simu as an ndarray of numpy, set\n    image = np.reshape(simu.values, simu.M)\n    # To further display it with pyplot of matplotlib:\n    i = int(np.floor(example / ncols))\n    j = int(example - i * ncols)\n    ax = plt.subplot(gs[i, j])\n    ax.imshow(image, cmap='gray')\n    ax.set_axis_off()\n\nplt.show()"
      ]
    }
  ],
  "metadata": {
    "kernelspec": {
      "display_name": "Python 3",
      "language": "python",
      "name": "python3"
    },
    "language_info": {
      "codemirror_mode": {
        "name": "ipython",
        "version": 3
      },
      "file_extension": ".py",
      "mimetype": "text/x-python",
      "name": "python",
      "nbconvert_exporter": "python",
      "pygments_lexer": "ipython3",
      "version": "3.8.5"
    }
  },
  "nbformat": 4,
  "nbformat_minor": 0
}