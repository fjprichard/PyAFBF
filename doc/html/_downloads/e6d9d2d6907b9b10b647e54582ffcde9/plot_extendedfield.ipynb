{
  "cells": [
    {
      "cell_type": "code",
      "execution_count": null,
      "metadata": {
        "collapsed": false
      },
      "outputs": [],
      "source": [
        "%matplotlib inline"
      ]
    },
    {
      "cell_type": "markdown",
      "metadata": {},
      "source": [
        "\n# Textured images with spectral variations\n\n.. codeauthor:: Fr\u00e9d\u00e9ric Richard <frederic.richard_at_univ-amu.fr>\n\nIn this example, we show how to simulate a field having a topothesy whose\nvalues may vary depending both on the direction and the amplitude.\n\n\n<div class=\"alert alert-info\"><h4>Note</h4><p>The obtained simulation relates to a model with a semi-variogram\n    of the form:\n\n    .. math::\n        v(x) = \\int_{\\mathbb{R}^2} \\vert e^{i\\langle x, w \\rangle} - 1 \\vert^2\n        \\tau(w) \\vert w \\vert^{2H-2} dw.\n\n    where, contrarily to usual AFBF, the value $\\tau(w)$ does not only\n    depend on the direction $\\arg(w)$ of $w$,\n    but also on its amplitude $\\vert w \\vert$.</p></div>\n"
      ]
    },
    {
      "cell_type": "code",
      "execution_count": null,
      "metadata": {
        "collapsed": false
      },
      "outputs": [],
      "source": [
        "import numpy as np\nfrom afbf import perfunction, tbfield\nfrom matplotlib import pyplot as plt\n\nnb_angle = 4  # Number of angle subdivisions.\nnb_spect = 3  # Number of spectrum subdivisions.\n\n# Definition of a fractional Brownian field.\nZ = tbfield('fbf')\nZ.hurst.ChangeParameters(\n    np.array([0.1])\n    )\nZ.NormalizeModel()\n\n\nZ.ExtendTopothesy(nb_spect, nb_angle)\nfor j in range(nb_spect):\n    # Set uniformly spaced interval for the step functions.\n    Z.gtopo[j].SetUniformStepInterval()\n\nnp.random.seed(1)\nz = Z.Simulate()\nz.name = 'Extended field.'\nz.Display(1)\n\n\n# Visualize the generalized topothesy.\ngtopo = perfunction('step-smooth', nb_spect)  # Topothesy at an angle.\ngtopo.SetUniformStepInterval()\n\nz = np.linspace(-np.pi / 2, np.pi / 2, 1000)\nim = np.zeros((z.size, z.size))\nfor i in range(z.size):\n    # Setting parameters of the topothesy at angle z[i]\n    for j in range(nb_spect):\n        Z.gtopo[j].Evaluate(np.array([z[i]]))\n        # The value of Z.gtopo[j] at z[i] gives the values of the jth\n        # parameter of the generalized topothesy at the ith angle.\n        gtopo.fparam[0, j] = Z.gtopo[j].values[0, 0]\n\n    # Evaluate the topothesy at angle z[i]\n    gtopo.Evaluate(z)\n    im[i, :] = gtopo.values.reshape((1, z.size))\n\nplt.figure(2)\nplt.imshow(im, cmap='gray')\nplt.title('Generalized topothesy')\nplt.xlabel(r'Amplitude $\\rho$')\nplt.ylabel(r'Angle $\\varphi$')\nloc, lab = plt.yticks(\n    np.linspace(0, z.size, 5),\n    [r'$-\\pi/2$', r'$-\\pi/4$', r'$0$', r'$\\pi/4$', r'$\\pi/2$']\n    )"
      ]
    }
  ],
  "metadata": {
    "kernelspec": {
      "display_name": "Python 3",
      "language": "python",
      "name": "python3"
    },
    "language_info": {
      "codemirror_mode": {
        "name": "ipython",
        "version": 3
      },
      "file_extension": ".py",
      "mimetype": "text/x-python",
      "name": "python",
      "nbconvert_exporter": "python",
      "pygments_lexer": "ipython3",
      "version": "3.8.5"
    }
  },
  "nbformat": 4,
  "nbformat_minor": 0
}