{
  "cells": [
    {
      "cell_type": "code",
      "execution_count": null,
      "metadata": {
        "collapsed": false
      },
      "outputs": [],
      "source": [
        "%matplotlib inline"
      ]
    },
    {
      "cell_type": "markdown",
      "metadata": {},
      "source": [
        "\n# Binary textures\n\n.. codeauthor:: Fr\u00e9d\u00e9ric Richard <frederic.richard_at_univ-amu.fr>\n\nIn this example, we show how to simulate\ntexture images with binary patterns.\n\nBinary patterns are obtained by applying a Laplacian operator to simulated\nfields, which highlights the field geometry.\n"
      ]
    },
    {
      "cell_type": "code",
      "execution_count": null,
      "metadata": {
        "collapsed": false
      },
      "outputs": [],
      "source": [
        "import numpy as np\nfrom afbf import perfunction, tbfield\n\n# Define an AFBF.\ntopo = perfunction('Fourier', 3, 'Topo')\nhurst = perfunction('step', 2, 'Hurst')\nZ = tbfield('afbf', topo, hurst)\nZ.hurst.ChangeParameters(np.array([[0.5, 0.1]]), np.array([[-1.18, 1.3]]))\nZ.topo.ChangeParameters(np.array([[2, 1, 0, 0.06, -0.15, 0.64, 0.25]]))\n\n# Simulate the field.\nnp.random.seed(1)\nz = Z.Simulate()\n\n# Compute the Laplacian of the simulation at scale 20.\nlaplacian = z.ComputeLaplacian(15)\n# Compute its sign.\npatterns = laplacian.ComputeImageSign()\n\n# Display.\npatterns.name = 'Binary patterns'\npatterns.Display()"
      ]
    }
  ],
  "metadata": {
    "kernelspec": {
      "display_name": "Python 3",
      "language": "python",
      "name": "python3"
    },
    "language_info": {
      "codemirror_mode": {
        "name": "ipython",
        "version": 3
      },
      "file_extension": ".py",
      "mimetype": "text/x-python",
      "name": "python",
      "nbconvert_exporter": "python",
      "pygments_lexer": "ipython3",
      "version": "3.8.5"
    }
  },
  "nbformat": 4,
  "nbformat_minor": 0
}