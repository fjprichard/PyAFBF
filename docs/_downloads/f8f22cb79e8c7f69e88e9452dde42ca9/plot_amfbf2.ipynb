{
  "cells": [
    {
      "cell_type": "code",
      "execution_count": null,
      "metadata": {
        "collapsed": false
      },
      "outputs": [],
      "source": [
        "%matplotlib inline"
      ]
    },
    {
      "cell_type": "markdown",
      "metadata": {},
      "source": [
        "\n# Anisotropic Multifractional Brownian field 2\n\n.. codeauthor:: Fr\u00e9d\u00e9ric Richard <frederic.richard_at_univ-amu.fr>\n\nIn this example, we show how to simulate heterogeneous textures whose\nanisotropy spatially varies. Such textures can be obtained\nby simulating a turning band field with a space-dependent Hurst function\nrepresented as a step function.\n\nHere, the Hurst function $\\beta_{(x,y)}$ is defined at position\n$(x, y)$ by changing linearly a Hurst constant. The directional\nproperties of the generated texture vary in the vertical direction from\nanisotropic to isotropic while its roughness remains the same.\n\n<div class=\"alert alert-info\"><h4>Note</h4><p>Such simulations are related to the so-called\n  **anisotropic multifractional Brownian field**\n  which was investigated :cite:p:`Vu2020`. In a harmonizable\n  representation, these fields are defined as\n\n  .. math::\n      Z(x, y) = \\int_{\\mathbb{R}^2}\n      (e^{i\\langle (x, y), w \\rangle} -1 ) \\tau_{(x, y)}(w)\n      \\vert w \\vert^{-\\beta_{x, y}(w) -1}\n      dW(w),\n\n  where $dW$ stands for a complex Brownian measure.</p></div>\n"
      ]
    },
    {
      "cell_type": "code",
      "execution_count": null,
      "metadata": {
        "collapsed": false
      },
      "outputs": [],
      "source": [
        "import numpy as np\nfrom afbf import coordinates, sdata, tbfield\n\nN = 256  # Image size.\n\npid = np.pi / 5  # length of a step of the Hurst function.\ndpid = np.pi / 16  # length of the transition between steps.\n\nh0 = 0.1  # Hurst index at (x, y) with y=0.\nh1 = 0.9  # Hurst index at (x, y) with y=N-1.\n\npid = np.pi / 16  # length of a step of the Hurst function.\ndpid = np.pi / 6  # length of the transition between steps.\nh0 = 0.1\nh1 = 0.9\n\n# Define a field.\nZ = tbfield('afbf-smooth')\n# Set step interval bounds.\nZ.hurst.ChangeParameters(\n        np.array([[h1, h0]]),\n        np.array([[-pid - dpid, -pid, pid, pid + dpid]])\n    )\nZ.hurst.trans = 1  # Indicate where step transitions are.\n\n# Set coordinates.\ncoord = coordinates(N)  # field coordinates.\ncoordy = coordinates()  # subset of coordinates.\nx = np.reshape(np.arange(1, N+1), (N, 1))\n\n# Initialize an image.\nz = sdata(coord)\nz.name = 'Anisotropic Multifractional Brownian field'\n\nfor y in range(N):\n    # Rescale the Hurst function.\n    t = y / (N - 1)\n    h = h0 * t + h1 * (1 - t)\n    # Change the step constants.\n    Z.hurst.ChangeParameters(\n        np.array([h, h0])\n    )\n    # Normalization.\n    Z.NormalizeModel()\n\n    # Restrict to coordinates (:, y).\n    coordy.DefineNonUniformLocations(\n        np.concatenate((x, (y+1) * np.ones((N, 1))), axis=1))\n    coordy.N = coord.N\n\n    # Simulate the current field keeping a same random seed.\n    np.random.seed(1)\n    zy = Z.Simulate(coordy)\n\n    # Keep the simulation at positions  (y:-1, :).\n    z.values.reshape(N, N)[y, :] = zy.values.reshape(1, N)[0, 0:N]\n\n# Display the simulation.\nz.Display()"
      ]
    }
  ],
  "metadata": {
    "kernelspec": {
      "display_name": "Python 3",
      "language": "python",
      "name": "python3"
    },
    "language_info": {
      "codemirror_mode": {
        "name": "ipython",
        "version": 3
      },
      "file_extension": ".py",
      "mimetype": "text/x-python",
      "name": "python",
      "nbconvert_exporter": "python",
      "pygments_lexer": "ipython3",
      "version": "3.8.5"
    }
  },
  "nbformat": 4,
  "nbformat_minor": 0
}